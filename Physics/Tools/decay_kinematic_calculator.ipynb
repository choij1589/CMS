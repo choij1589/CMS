{
 "metadata": {
  "language_info": {
   "codemirror_mode": {
    "name": "ipython",
    "version": 3
   },
   "file_extension": ".py",
   "mimetype": "text/x-python",
   "name": "python",
   "nbconvert_exporter": "python",
   "pygments_lexer": "ipython3",
   "version": "3.8.5-final"
  },
  "orig_nbformat": 2,
  "kernelspec": {
   "name": "python_defaultSpec_1598944240990",
   "display_name": "Python 3.8.5 64-bit ('scipy': conda)"
  }
 },
 "nbformat": 4,
 "nbformat_minor": 2,
 "cells": [
  {
   "cell_type": "markdown",
   "metadata": {},
   "source": [
    "### Decay Kinematics Calculator"
   ]
  },
  {
   "cell_type": "code",
   "execution_count": 1,
   "metadata": {
    "tags": []
   },
   "outputs": [
    {
     "output_type": "stream",
     "name": "stdout",
     "text": "Welcome to JupyROOT 6.22/00\n"
    }
   ],
   "source": [
    "from ROOT import *"
   ]
  },
  {
   "cell_type": "code",
   "execution_count": 2,
   "metadata": {
    "tags": []
   },
   "outputs": [],
   "source": [
    "# Consider arbitrary initial particle\n",
    "# with p = (p, E) and M^2 = p*p\n",
    "def two_body_decay(mother, mass1, mass2):\n",
    "    # mother: TLorentzVector, 4-momentum of mother particle\n",
    "    # mass1, mass2: float, mass of daughter\n",
    "    # assume decay into 3-axis\n",
    "    mass_mom = TMath.Sqrt(mother*mother)\n",
    "    E1 = (mass_mom**2 + mass1**2 - mass2**2)/(2*mass_mom)\n",
    "    E2 = (mass_mom**2 - mass1**2 + mass2**2)/(2*mass_mom)\n",
    "    lamb = mass_mom**4 - 2*(mass_mom**2)*(mass1**2+mass2**2) + (mass1**2-mass2**2)**2\n",
    "    p3 = TMath.Sqrt(lamb)/(2*mass_mom)\n",
    "\n",
    "    daus = []\n",
    "    dau1 = TLorentzVector(0, 0, p3, E1)\n",
    "    dau2 = TLorentzVector(0, 0, -p3, E2)\n",
    "\n",
    "    # boost factor\n",
    "    beta = TVector3(mother.Px()/mother.E(), mother.Py()/mother.E(), mother.Pz()/mother.E())\n",
    "    dau1.Boost(beta)\n",
    "    dau2.Boost(beta)\n",
    "\n",
    "    daus.append(dau1)\n",
    "    daus.append(dau2)\n",
    "\n",
    "    return daus\n"
   ]
  },
  {
   "cell_type": "code",
   "execution_count": 3,
   "metadata": {
    "tags": []
   },
   "outputs": [
    {
     "output_type": "stream",
     "name": "stdout",
     "text": "15.592790897651962\n14.40720910234804\n"
    }
   ],
   "source": [
    "mom = TLorentzVector(0., 30., 200., 2000.)\n",
    "daughters = two_body_decay(mom, 1.7, 200)\n",
    "print(daughters[0].Py())\n",
    "print(daughters[1].Py())"
   ]
  },
  {
   "cell_type": "code",
   "execution_count": null,
   "metadata": {},
   "outputs": [],
   "source": []
  }
 ]
}