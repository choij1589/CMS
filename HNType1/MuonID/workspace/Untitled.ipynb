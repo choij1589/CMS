{
 "cells": [
  {
   "cell_type": "code",
   "execution_count": null,
   "metadata": {},
   "outputs": [],
   "source": [
    "from ROOT import *\n",
    "\n",
    "# file path first\n",
    "path_prefix = \"/workspace/CMS/HNType1/MuonID/input/\"\n",
    "years = [2016, 2017, 2018]\n",
    "path_suffix = \"/DATA/MuonID_DoubleMuon.root\"\n",
    "\n",
    "files = {}\n",
    "for year in years:\n",
    "    path = path_prefix + str(year) + path_suffix\n",
    "    files[year] = TFile(path)    "
   ]
  },
  {
   "cell_type": "code",
   "execution_count": null,
   "metadata": {},
   "outputs": [],
   "source": [
    "path_hist = \"preselection/TT/muons_tight/1/pt\"\n",
    "h = files[2016].Get(path_hist)\n",
    "h.Draw()"
   ]
  },
  {
   "cell_type": "code",
   "execution_count": null,
   "metadata": {},
   "outputs": [],
   "source": []
  }
 ],
 "metadata": {
  "kernelspec": {
   "display_name": "Python 3",
   "language": "python",
   "name": "python3"
  },
  "language_info": {
   "codemirror_mode": {
    "name": "ipython",
    "version": 3
   },
   "file_extension": ".py",
   "mimetype": "text/x-python",
   "name": "python",
   "nbconvert_exporter": "python",
   "pygments_lexer": "ipython3",
   "version": "3.8.5"
  }
 },
 "nbformat": 4,
 "nbformat_minor": 4
}
