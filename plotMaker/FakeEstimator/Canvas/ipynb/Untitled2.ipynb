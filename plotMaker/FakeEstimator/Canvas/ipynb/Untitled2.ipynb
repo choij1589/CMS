{
 "cells": [
  {
   "cell_type": "code",
   "execution_count": 1,
   "metadata": {},
   "outputs": [],
   "source": [
    "#include \"TdrStyle.C\""
   ]
  },
  {
   "cell_type": "code",
   "execution_count": 2,
   "metadata": {},
   "outputs": [],
   "source": [
    "// files information\n",
    "TString pathData = \"/home/choij/Desktop/CMS/plotMaker/FakeEstimator/2016/RunSysts__/DATA/\";\n",
    "TString pathMC = \"/home/choij/Desktop/CMS/plotMaker/FakeEstimator/2016/RunSysts__/\";\n",
    "TString AnalyzerName = \"FakeEstimator_\";\n",
    "vector<TString> SampleName \n",
    "    = {\"DoubleEG\", \"MC\", \"DYJets\", \"tt\", \"SingleTop\", \"tW\", \"WJets_MG\", \"VV\"};\n",
    "TString suffix = \".root\";\n",
    "TString Year = \"_2016\";\n",
    "\n",
    "map<TString, TFile*> files; files.clear();\n",
    "\n",
    "for (int i = 0; i < SampleName.size(); i++) {\n",
    "    TString sample = \"\";\n",
    "    if (SampleName.at(i).Contains(\"DoubleEG\")){\n",
    "        sample = pathData + AnalyzerName + SampleName.at(i) + Year + suffix;\n",
    "    }\n",
    "    else {\n",
    "        sample = pathMC + AnalyzerName + SampleName.at(i) + suffix;\n",
    "    }\n",
    "    TFile* temp = new TFile(sample);\n",
    "    files.insert(make_pair(SampleName.at(i), temp));\n",
    "}\n",
    "\n",
    "// Working points and systematic sources\n",
    "vector<TString> WPs = {\"Loose\", \"Tight\"};\n",
    "vector<TString> Systs = {\"Central\", \"Syst_FlavorDependence\", \"Syst_JetPtCutDown\", \"Syst_JetPtCutUp\"};\n",
    "\n",
    "// Histograms\n",
    "vector<TString> Hists = {\n",
    "    \"M(ee)_Z_enriched\", \"Mt_W_enriched\", \"corrPt_QCD_enriched\",\n",
    "    \"electron_eta_QCD_enriched\", \"electron_eta_W_enriched\", \"electron_pt_W_enriched\",\n",
    "    \"leading_electron_eta_Z_enriched\", \"leading_electron_pt_Z_enriched\", \"leading_jet_eta_QCD_enriched\",\n",
    "    \"leading_jet_eta_W_enriched\", \"leading_jet_eta_Z_enriched\", \"leading_jet_pt_QCD_enriched\",\n",
    "    \"leading_jet_pt_W_enriched\", \"leading_jet_pt_Z_enriched\", \"subleading_electron_eta_Z_enriched\",\n",
    "    \"subleading_electron_pt_Z_enriched\", \"subleading_jet_eta_QCD_enriched\", \"subleading_jet_pt_QCD_enriched\",\n",
    "    \"nEvent_QCD_enriched_pass\"\n",
    "};"
   ]
  },
  {
   "cell_type": "code",
   "execution_count": 3,
   "metadata": {},
   "outputs": [],
   "source": [
    "// function to get a directory\n",
    "TDirectory* GetDirectory(TFile* file, TString wp, TString syst) {\n",
    "    TDirectory* temp = (TDirectory*)file->GetDirectory(wp + \"_\" + syst);\n",
    "    return temp;\n",
    "}"
   ]
  },
  {
   "cell_type": "code",
   "execution_count": 4,
   "metadata": {},
   "outputs": [],
   "source": [
    "auto GetHist(TDirectory* dir, TString histname) {\n",
    "    auto* hist = dir->Get(histname);\n",
    "    return hist;\n",
    "}"
   ]
  },
  {
   "cell_type": "code",
   "execution_count": 5,
   "metadata": {},
   "outputs": [],
   "source": [
    "// function to get a scale factor\n",
    "Double_t GetScale(TString wp, TString syst) {\n",
    "    TDirectory* dir_data = GetDirectory(files[\"DoubleEG\"], wp, syst); \n",
    "    TDirectory* dir_mc = GetDirectory(files[\"MC\"], wp, syst);\n",
    "    \n",
    "    TH1D* h_data = (TH1D*) dir_data->Get(\"Mt_W_enriched_\" + wp + \"_\" + syst);\n",
    "    TH1D* h_mc = (TH1D*) dir_mc->Get(\"Mt_W_enriched_\" + wp + \"_\" + syst);\n",
    "    \n",
    "    Double_t scale = h_data->Integral() / h_mc->Integral();\n",
    "    \n",
    "    return scale;\n",
    "}"
   ]
  },
  {
   "cell_type": "code",
   "execution_count": 6,
   "metadata": {},
   "outputs": [],
   "source": [
    "THStack* GetStack(TString wp, TString syst, TString histname) {\n",
    "    THStack* stack = new THStack(histname + \"_\" + wp + \"_\" + syst, \"\");\n",
    "    \n",
    "    for (int i = 2; i < SampleName.size(); i++) {\n",
    "        TDirectory* dir \n",
    "            = (TDirectory*)GetDirectory(files[SampleName.at(i)], wp, syst);\n",
    "        TH1D* hist = (TH1D*)GetHist(dir, histname + \"_\" + wp + \"_\" + syst);\n",
    "        hist->Scale(GetScale(wp, syst));\n",
    "         \n",
    "        if (SampleName.at(i) == \"tt\") {\n",
    "            hist->SetFillColorAlpha(kBlue, 1.);\n",
    "            hist->SetLineColor(38);\n",
    "        }\n",
    "        else if (SampleName.at(i) == \"DYJets\") {\n",
    "            hist->SetFillColorAlpha(kGreen, 0.7);\n",
    "            hist->SetLineColor(kGreen);\n",
    "        }\n",
    "        else if (SampleName.at(i) == \"SingleTop\") {\n",
    "            hist->SetFillColorAlpha(kBlue, 0.7);\n",
    "            hist->SetLineColor(4);\n",
    "        }\n",
    "        else if (SampleName.at(i) == \"tW\") {\n",
    "            hist->SetFillColorAlpha(kBlue, 0.4);\n",
    "            hist->SetLineColor(9);\n",
    "        }\n",
    "        else if (SampleName.at(i) == \"WJets_MG\") {\n",
    "            hist->SetFillColorAlpha(kAzure, 0.7);\n",
    "            hist->SetLineColor(kAzure);\n",
    "        }\n",
    "        else if (SampleName.at(i) == \"VV\") {\n",
    "            hist->SetFillColorAlpha(kRed, 0.7);\n",
    "            hist->SetLineColor(kRed);\n",
    "        }\n",
    "        else cout << \"This BkgProc(\" << SampleName.at(i) << \") does not have matched color!\" << endl;\n",
    "        \n",
    "        stack->Add(hist);\n",
    "    }   \n",
    "    return stack;\n",
    "}"
   ]
  },
  {
   "cell_type": "code",
   "execution_count": 7,
   "metadata": {},
   "outputs": [],
   "source": [
    "THStack* hstack = NULL;\n",
    "hstack = GetStack(\"Tight\", \"Central\", Hists.at(11));"
   ]
  },
  {
   "cell_type": "code",
   "execution_count": null,
   "metadata": {},
   "outputs": [
    {
     "name": "stderr",
     "output_type": "stream",
     "text": [
      "\n",
      " *** Break *** segmentation violation\n"
     ]
    }
   ],
   "source": [
    "TCanvas* cvs = new TCanvas();\n",
    "cvs->cd();\n",
    "hstack->Draw(\"histfsame\");\n",
    "cvs->Draw();"
   ]
  },
  {
   "cell_type": "code",
   "execution_count": null,
   "metadata": {},
   "outputs": [],
   "source": [
    "TCanvas* cvs = new TCanvas(\"cvs\", \"cvs\", 800, 600);\n",
    "TPad* pad_up = new TPad(\"pad_up\", \"pad_up\", 0, 0.3, 1, 1);\n",
    "TPad* pad_down = new TPad(\"pad_down\", \"pad_down\", 0, 0, 1, 0.25);\n",
    "\n"
   ]
  },
  {
   "cell_type": "code",
   "execution_count": null,
   "metadata": {},
   "outputs": [],
   "source": [
    "TDirectory* dir = GetDirectory(files[\"DoubleEG\"], \"Tight\", \"Central\");\n",
    "dir->ls();"
   ]
  },
  {
   "cell_type": "code",
   "execution_count": null,
   "metadata": {},
   "outputs": [],
   "source": [
    "files[\"tt\"]->ls();"
   ]
  },
  {
   "cell_type": "code",
   "execution_count": null,
   "metadata": {},
   "outputs": [],
   "source": []
  }
 ],
 "metadata": {
  "kernelspec": {
   "display_name": "ROOT C++",
   "language": "c++",
   "name": "root"
  },
  "language_info": {
   "codemirror_mode": "text/x-c++src",
   "file_extension": ".C",
   "mimetype": " text/x-c++src",
   "name": "c++"
  }
 },
 "nbformat": 4,
 "nbformat_minor": 4
}
