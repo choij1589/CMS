{
 "cells": [
  {
   "cell_type": "code",
   "execution_count": 1,
   "metadata": {},
   "outputs": [],
   "source": [
    "#include \"TdrStyle.C\""
   ]
  },
  {
   "cell_type": "code",
   "execution_count": 2,
   "metadata": {},
   "outputs": [],
   "source": [
    "// files information\n",
    "TString pathData = \"/home/choij/Desktop/CMS/plotMaker/FakeEstimator/2016/RunSysts__/DATA/FakeEstimator_DoubleEG_2016.root\";\n",
    "TString pathMC = \"/home/choij/Desktop/CMS/plotMaker/FakeEstimator/2016/RunSysts__/FakeEstimator_MC.root\";\n",
    "\n",
    "TFile* f_data = new TFile(pathData); TFile* f_mc = new TFile(pathMC);\n",
    "\n",
    "vector<TString> WPs = {\"Loose\", \"Tight\"};\n",
    "vector<TString> Systs = {\"Central\", \"Syst_FlavorDependence\", \"Syst_JetPtCutDown\", \"Syst_JetPtCutUp\"};\n",
    "\n",
    "vector<TString> Hists = {\n",
    "    \"M(ee)_Z_enriched\", \"Mt_W_enriched\", \"corrPt_QCD_enriched\",\n",
    "    \"electron_eta_QCD_enriched\", \"electron_eta_W_enriched\", \"electron_pt_W_enriched\",\n",
    "    \"leading_electron_eta_Z_enriched\", \"leading_electron_pt_Z_enriched\", \"leading_jet_eta_QCD_enriched\",\n",
    "    \"leading_jet_eta_W_enriched\", \"leading_jet_eta_Z_enriched\", \"leading_jet_pt_QCD_enriched\",\n",
    "    \"leading_jet_pt_W_enriched\", \"leading_jet_pt_Z_enriched\", \"subleading_electron_eta_Z_enriched\",\n",
    "    \"subleading_electron_pt_Z_enriched\", \"subleading_jet_eta_QCD_enriched\", \"subleading_jet_pt_QCD_enriched\",\n",
    "    \"nEvent_QCD_enriched_pass\"\n",
    "};"
   ]
  },
  {
   "cell_type": "code",
   "execution_count": 3,
   "metadata": {},
   "outputs": [],
   "source": [
    "// function to get a directory\n",
    "TDirectory* GetDirectory(bool isData, TString wp, TString syst) {\n",
    "    TDirectory* temp_dir = NULL;\n",
    "    \n",
    "    if (isData == true) {\n",
    "        temp_dir = (TDirectory*)f_data->GetDirectory(wp + \"_\" + syst);\n",
    "    }\n",
    "    else {\n",
    "        temp_dir = (TDirectory*)f_mc->GetDirectory(wp + \"_\" + syst);\n",
    "    }\n",
    "    \n",
    "    return temp_dir;\n",
    "}"
   ]
  },
  {
   "cell_type": "code",
   "execution_count": 4,
   "metadata": {},
   "outputs": [],
   "source": [
    "// function to get a histogram\n",
    "auto GetHistogram(TDirectory* dir, TString histname) {\n",
    "    auto* hist = dir->Get(histname);\n",
    "    return hist;\n",
    "}"
   ]
  },
  {
   "cell_type": "code",
   "execution_count": 5,
   "metadata": {},
   "outputs": [],
   "source": [
    "// function to get a scale factor\n",
    "Double_t GetScale(TString wp, TString syst) {\n",
    "    TDirectory* dir_data = GetDirectory(1, wp, syst); TDirectory* dir_mc = GetDirectory(0, wp, syst);\n",
    "    \n",
    "    TH1D* h_data = (TH1D*) dir_data->Get(\"Mt_W_enriched_\" + wp + \"_\" + syst);\n",
    "    TH1D* h_mc = (TH1D*) dir_mc->Get(\"Mt_W_enriched_\" + wp + \"_\" + syst);\n",
    "    \n",
    "    Double_t scale = h_data->Integral() / h_mc->Integral();\n",
    "    \n",
    "    return scale;\n",
    "}"
   ]
  },
  {
   "cell_type": "code",
   "execution_count": 6,
   "metadata": {},
   "outputs": [],
   "source": [
    "TCanvas* cvs = new TCanvas(\"cvs\", \"cvs\", 800, 600);\n",
    "TPad* pad_up = new TPad(\"pad_up\", \"pad_up\", 0, 0.25, 1, 1);\n",
    "TPad* pad_down = new TPad(\"pad_down\", \"pad_down\", 0, 0, 1, 0.25);\n",
    "\n",
    "TDirectory* dir_data = (TDirectory*) GetDirectory(1, \"Tight\", \"Central\");\n",
    "TDirectory* dir_mc = (TDirectory*) GetDirectory(0, \"Tight\", \"Central\");\n",
    "\n",
    "TH1D* h_data = (TH1D*) GetHistogram(dir_data, Hists.at(11) + \"_Tight_Central\" );\n",
    "TH1D* h_mc = (TH1D*) GetHistogram(dir_mc, Hists.at(11) + \"_Tight_Central\");\n",
    "\n",
    "Double_t scale = GetScale(\"Tight\", \"Central\");\n",
    "h_mc->Scale(scale);\n",
    "\n",
    "h_data->GetYaxis()->SetRangeUser(0, 3000);\n",
    "h_mc->GetYaxis()->SetRangeUser(0, 3000);"
   ]
  },
  {
   "cell_type": "code",
   "execution_count": 7,
   "metadata": {},
   "outputs": [
    {
     "data": {
      "image/png": "[encoded data removed]",
      "text/plain": [
       "<IPython.core.display.Image object>"
      ]
     },
     "metadata": {},
     "output_type": "display_data"
    }
   ],
   "source": [
    "cvs->cd();\n",
    "h_data->Draw();\n",
    "h_mc->Draw(\"same\");\n",
    "cvs->Draw();"
   ]
  },
  {
   "cell_type": "code",
   "execution_count": null,
   "metadata": {},
   "outputs": [],
   "source": []
  }
 ],
 "metadata": {
  "kernelspec": {
   "display_name": "ROOT C++",
   "language": "c++",
   "name": "root"
  },
  "language_info": {
   "codemirror_mode": "text/x-c++src",
   "file_extension": ".C",
   "mimetype": " text/x-c++src",
   "name": "c++"
  }
 },
 "nbformat": 4,
 "nbformat_minor": 4
}
