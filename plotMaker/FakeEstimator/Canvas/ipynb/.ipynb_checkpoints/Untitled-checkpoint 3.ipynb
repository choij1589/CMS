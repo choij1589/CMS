{
 "cells": [
  {
   "cell_type": "code",
   "execution_count": 1,
   "metadata": {},
   "outputs": [
    {
     "name": "stdout",
     "output_type": "stream",
     "text": [
      "Welcome to JupyROOT 6.20/02\n"
     ]
    }
   ],
   "source": [
    "import tdrstyle\n",
    "from ROOT import TFile, TDirectory, TH1D, TH2D, TCanvas, TPad, TLatex, TLegend"
   ]
  },
  {
   "cell_type": "code",
   "execution_count": 2,
   "metadata": {},
   "outputs": [],
   "source": [
    "pathData = \"/home/choij/Desktop/CMS/plotMaker/FakeEstimator/2016/RunSysts__/DATA/FakeEstimator_DoubleEG_2016.root\"\n",
    "pathMC = \"/home/choij/Desktop/CMS/plotMaker/FakeEstimator/2016/RunSysts__/FakeEstimator_MC.root\"\n",
    "\n",
    "f_data = TFile(pathData)\n",
    "f_mc = TFile(pathMC)\n",
    "\n",
    "files = {\"Data\" : f_data, \"MC\" : f_mc}\n",
    "\n",
    "WPs = [\"Loose\", \"Tight\"]\n",
    "Systs = [\"Central\", \"Syst_FlavorDependence\", \"Syst_JetPtCutDown\", \"Syst_JetPtCutUp\"]"
   ]
  },
  {
   "cell_type": "code",
   "execution_count": 3,
   "metadata": {},
   "outputs": [],
   "source": [
    "# function to get a directory\n",
    "def GetDirectory(isData, wp, syst):\n",
    "    if (isData == True):\n",
    "        temp_dir = files[\"Data\"].GetDirectory(wp + \"_\" + syst)\n",
    "    else:\n",
    "        temp_dir = files[\"MC\"].GetDirectory(wp + \"_\" + syst)\n",
    "    \n",
    "    return temp_dir"
   ]
  },
  {
   "cell_type": "code",
   "execution_count": 4,
   "metadata": {},
   "outputs": [],
   "source": [
    "def GetHistogram(direc, histname):\n",
    "    hist = direc.Get(histname)\n",
    "    return hist"
   ]
  },
  {
   "cell_type": "code",
   "execution_count": 5,
   "metadata": {},
   "outputs": [],
   "source": [
    "def GetScale(wp, syst):\n",
    "    dir_data = GetDirectory(1, wp, syst)\n",
    "    dir_mc = GetDirectory(0, wp, syst)\n",
    "    \n",
    "    h_data = dir_data.Get(\"Mt_W_enriched_\" + wp + \"_\" + syst)\n",
    "    h_mc = dir_mc.Get(\"Mt_W_enriched_\" + wp + \"_\" + syst)\n",
    "    \n",
    "    scale = h_data.Integral() / h_mc.Integral()\n",
    "    return scale"
   ]
  },
  {
   "cell_type": "code",
   "execution_count": 6,
   "metadata": {},
   "outputs": [],
   "source": [
    "def GetFake2D(syst):\n",
    "    dir_data_loose = GetDirectory(1, \"Loose\", syst)\n",
    "    dir_mc_loose = GetDirectory(0, \"Loose\", syst)\n",
    "    dir_data_tight = GetDirectory(1, \"Tight\", syst);\n",
    "    dir_mc_tight = GetDirectory(0, \"Tight\", syst);\n",
    "    \n",
    "    h_data_loose = GetHistogram(dir_data_loose, \"nEvent_QCD_enriched_pass_Loose_\" + syst)\n",
    "    h_mc_loose = GetHistogram(dir_mc_loose, \"nEvent_QCD_enriched_pass_Loose_\" + syst)\n",
    "    scale_loose = GetScale(\"Loose\", syst)\n",
    "    h_data_loose.Add(h_mc_loose, scale_loose * -1)\n",
    "    \n",
    "    h_data_tight = GetHistogram(dir_data_tight, \"nEvent_QCD_enriched_pass_Tight_\" + syst)\n",
    "    h_mc_tight = GetHistogram(dir_mc_tight, \"nEvent_QCD_enriched_pass_Tight_\" + syst)\n",
    "    scale_tight = GetScale(\"Tight\", syst)\n",
    "    h_data_tight.Add(h_mc_loose, scale_tight * -1)\n",
    "    \n",
    "    h_fake = h_data_tight.Clone(\"fake rate\")\n",
    "    h_fake.Divide(h_data_loose)\n",
    "    \n",
    "    return h_fake"
   ]
  },
  {
   "cell_type": "code",
   "execution_count": 22,
   "metadata": {},
   "outputs": [],
   "source": [
    "def GetFake1D(syst):\n",
    "    h = GetFake2D(syst)\n",
    "    hx = h.ProjectionX(\"_px\")\n",
    "    hx1 = h.ProjectionX(\"_px1\", 1, 1)\n",
    "    hx2 = h.ProjectionX(\"_px2\", 2, 2)\n",
    "    hx3 = h.ProjectionX(\"_px3\", 3, 3)\n",
    "    \n",
    "    hxs = []\n",
    "    hxs.append(hx)\n",
    "    hxs.append(hx1)\n",
    "    hxs.append(hx2)\n",
    "    hxs.append(hx3)\n",
    "    \n",
    "    return hxs"
   ]
  },
  {
   "cell_type": "code",
   "execution_count": 25,
   "metadata": {},
   "outputs": [],
   "source": [
    "def CMS_lumi(syst):\n",
    "    global lumi\n",
    "    global logo\n",
    "    global extralogo\n",
    "    \n",
    "    lumi_13TeV = \"#it{L}^{int} = 0.063 fb^{-1} (13TeV)\"\n",
    "    cmsText = \"CMS\"\n",
    "    extraText = \"Preliminary\"\n",
    "    \n",
    "    if (syst == \"Central\"):\n",
    "        lumi.SetTextSize(0.035)\n",
    "        lumi.SetTextFont(42)\n",
    "        lumi.DrawLatexNDC(0.65, 0.955, lumi_13TeV)\n",
    "    \n",
    "        logo.SetTextSize(0.04)\n",
    "        logo.SetTextFont(61)\n",
    "        logo.DrawLatexNDC(0.16, 0.955, cmsText)\n",
    "        extralogo.SetTextSize(0.035)\n",
    "        extralogo.SetTextFont(52)\n",
    "        extralogo.DrawLatexNDC(0.245, 0.955, extraText)\n",
    "    else:\n",
    "        lumi.SetTextSize(0.04)\n",
    "        lumi.SetTextFont(42)\n",
    "        lumi.DrawLatexNDC(0.655, 0.93, lumi_13TeV)\n",
    "    \n",
    "        logo.SetTextSize(0.05)\n",
    "        logo.SetTextFont(61)\n",
    "        logo.DrawLatexNDC(0.15, 0.93, cmsText)\n",
    "        extralogo.SetTextSize(0.045)\n",
    "        extralogo.SetTextFont(52)\n",
    "        extralogo.DrawLatexNDC(0.237, 0.93, extraText)"
   ]
  },
  {
   "cell_type": "code",
   "execution_count": 25,
   "metadata": {},
   "outputs": [],
   "source": [
    "def DrawFake1D(syst):\n",
    "    SetTDRStyle()\n",
    "    \n",
    "    cvs = TCanvas(\"cvs\", \"cvs\", 750, 800)\n",
    "    pad_up = TPad(\"pad_up\", \"pad_up\", 0, 0.3, 1, 1)\n",
    "    pad_down = TPad(\"pad_down\", \"pad_down\", 0, 0, 1, 0.3)\n",
    "    leg = TLegend(0.64, 0.68, 0.91, 0.88)\n",
    "    \n",
    "    lumi = TLatex()\n",
    "    logo = TLatex()\n",
    "    extralogo"
   ]
  },
  {
   "cell_type": "code",
   "execution_count": 20,
   "metadata": {},
   "outputs": [],
   "source": [
    "h = GetFake2D(Systs[3])"
   ]
  },
  {
   "cell_type": "code",
   "execution_count": 21,
   "metadata": {},
   "outputs": [
    {
     "data": {
      "image/png": "[encoded data removed]",
      "text/plain": [
       "<IPython.core.display.Image object>"
      ]
     },
     "metadata": {},
     "output_type": "display_data"
    }
   ],
   "source": [
    "cvs = TCanvas()\n",
    "cvs.cd()\n",
    "h.Draw(\"Lego\")\n",
    "cvs.Draw()"
   ]
  },
  {
   "cell_type": "code",
   "execution_count": 9,
   "metadata": {},
   "outputs": [
    {
     "ename": "NameError",
     "evalue": "name 'c1' is not defined",
     "output_type": "error",
     "traceback": [
      "\u001b[0;31m---------------------------------------------------------------------------\u001b[0m",
      "\u001b[0;31mNameError\u001b[0m                                 Traceback (most recent call last)",
      "\u001b[0;32m<ipython-input-9-dc4f7dc3b7e7>\u001b[0m in \u001b[0;36m<module>\u001b[0;34m\u001b[0m\n\u001b[0;32m----> 1\u001b[0;31m \u001b[0mc1\u001b[0m\u001b[0;34m.\u001b[0m\u001b[0mDraw\u001b[0m\u001b[0;34m(\u001b[0m\u001b[0;34m)\u001b[0m\u001b[0;34m\u001b[0m\u001b[0;34m\u001b[0m\u001b[0m\n\u001b[0m",
      "\u001b[0;31mNameError\u001b[0m: name 'c1' is not defined"
     ]
    }
   ],
   "source": [
    "c1.Draw()"
   ]
  },
  {
   "cell_type": "code",
   "execution_count": null,
   "metadata": {},
   "outputs": [],
   "source": []
  }
 ],
 "metadata": {
  "kernelspec": {
   "display_name": "Python 3",
   "language": "python",
   "name": "python3"
  },
  "language_info": {
   "codemirror_mode": {
    "name": "ipython",
    "version": 3
   },
   "file_extension": ".py",
   "mimetype": "text/x-python",
   "name": "python",
   "nbconvert_exporter": "python",
   "pygments_lexer": "ipython3",
   "version": "3.8.2"
  }
 },
 "nbformat": 4,
 "nbformat_minor": 4
}
