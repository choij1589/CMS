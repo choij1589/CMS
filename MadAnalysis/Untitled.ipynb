{
 "cells": [
  {
   "cell_type": "code",
   "execution_count": 1,
   "metadata": {},
   "outputs": [],
   "source": [
    "TFile* f900 = new TFile(\"test_SR3_go900.root\");\n",
    "TFile* f1600 = new TFile(\"test_SR4_go1600.root\");"
   ]
  },
  {
   "cell_type": "code",
   "execution_count": null,
   "metadata": {},
   "outputs": [],
   "source": []
  },
  {
   "cell_type": "code",
   "execution_count": 2,
   "metadata": {},
   "outputs": [],
   "source": [
    "auto* t900 = (TTree*)f900->Get(\"SR_3\");\n",
    "auto* t1600 = (TTree*)f1600->Get(\"SR_4\");"
   ]
  },
  {
   "cell_type": "code",
   "execution_count": 3,
   "metadata": {},
   "outputs": [
    {
     "name": "stdout",
     "output_type": "stream",
     "text": [
      "6.92798e-310\n",
      "6.92798e-310\n",
      "6.92798e-310\n",
      "6.92798e-310\n"
     ]
    },
    {
     "name": "stderr",
     "output_type": "stream",
     "text": [
      "Error in <TTree::SetBranchAddress>: The address for \"tripletM\" should be the address of a pointer!\n",
      "Error in <TTree::SetBranchAddress>: The address for \"tripletM\" should be the address of a pointer!\n",
      "Error in <TTree::SetBranchAddress>: The address for \"tripletM\" should be the address of a pointer!\n",
      "Error in <TTree::SetBranchAddress>: The address for \"tripletM\" should be the address of a pointer!\n"
     ]
    }
   ],
   "source": [
    "vector<double> mass[4];\n",
    "for (unsigned int i = 0; i < 4; i++) {\n",
    "    t900->SetBranchAddress(\"tripletM\", &mass[i]);\n",
    "    t900->GetEntry(0);\n",
    "    cout << mass[i].at(0) << endl;\n",
    "}"
   ]
  },
  {
   "cell_type": "code",
   "execution_count": null,
   "metadata": {},
   "outputs": [],
   "source": []
  },
  {
   "cell_type": "code",
   "execution_count": null,
   "metadata": {},
   "outputs": [],
   "source": [
    "h->Draw();"
   ]
  },
  {
   "cell_type": "code",
   "execution_count": null,
   "metadata": {},
   "outputs": [],
   "source": [
    "c1->Draw();"
   ]
  },
  {
   "cell_type": "code",
   "execution_count": null,
   "metadata": {},
   "outputs": [],
   "source": [
    "lf->Draw();"
   ]
  },
  {
   "cell_type": "code",
   "execution_count": null,
   "metadata": {},
   "outputs": [],
   "source": [
    "c1->Draw();"
   ]
  },
  {
   "cell_type": "code",
   "execution_count": null,
   "metadata": {},
   "outputs": [],
   "source": []
  }
 ],
 "metadata": {
  "kernelspec": {
   "display_name": "ROOT C++",
   "language": "c++",
   "name": "root"
  },
  "language_info": {
   "codemirror_mode": "text/x-c++src",
   "file_extension": ".C",
   "mimetype": " text/x-c++src",
   "name": "c++"
  }
 },
 "nbformat": 4,
 "nbformat_minor": 4
}
